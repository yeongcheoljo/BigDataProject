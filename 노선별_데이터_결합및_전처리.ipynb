{
  "nbformat": 4,
  "nbformat_minor": 0,
  "metadata": {
    "colab": {
      "provenance": []
    },
    "kernelspec": {
      "name": "python3",
      "display_name": "Python 3"
    },
    "language_info": {
      "name": "python"
    }
  },
  "cells": [
    {
      "cell_type": "code",
      "execution_count": null,
      "metadata": {
        "id": "rQFb6OqqlLZu"
      },
      "outputs": [],
      "source": [
        "#노선별 데이터 결합\n",
        "from openpyxl import load_workbook\n",
        "import pandas as pd\n",
        "import glob\n",
        "\n",
        "# Path to the directory with your files\n",
        "file_path = \"/content/*.xlsx\"  # Update this path\n",
        "all_files = sorted(glob.glob(file_path))  # Sort files alphabetically, ensuring Jan-Dec order\n",
        "\n",
        "# List to collect data from each file\n",
        "monthly_data_frames = []\n",
        "for file in all_files:\n",
        "    # Load workbook and select the active sheet\n",
        "    wb = load_workbook(file)\n",
        "    sheet = wb.active\n",
        "\n",
        "    # Read data from each row\n",
        "    data = []\n",
        "    for row in sheet.iter_rows(values_only=True):\n",
        "        # Check if any cell in the row is empty and replace it with the previous row's value\n",
        "        if data and row[0] is None:\n",
        "            # If current row's first cell is empty, use values from the last row in `data`\n",
        "            last_row = data[-1]\n",
        "            row = tuple(last_row[i] if cell is None else cell for i, cell in enumerate(row))\n",
        "        data.append(row)\n",
        "\n",
        "    # Convert data to a DataFrame and append to the list\n",
        "    columns = data[0]  # First row as header\n",
        "    df = pd.DataFrame(data[1:], columns=columns)\n",
        "    monthly_data_frames.append(df)\n",
        "\n",
        "# Concatenate all monthly DataFrames into one\n",
        "combined_data = pd.concat(monthly_data_frames, ignore_index=True)\n",
        "\n",
        "# Save the combined data to a new Excel file\n",
        "combined_data.to_excel(\"노선별 이용량 23-combine.xlsx\", index=False)"
      ]
    },
    {
      "cell_type": "code",
      "source": [
        "#노선별 이용량 전처리\n",
        "import pandas as pd\n",
        "import numpy as np\n",
        "\n",
        "# Replace 'your_file.csv' with the path to your CSV file\n",
        "file_path = \"/content/노선별 이용량 23-combine.csv\"\n",
        "\n",
        "# Load the CSV file into a pandas DataFrame\n",
        "df = pd.read_csv(file_path, encoding='utf-8-sig')\n",
        "\n",
        "# Replace this list with the column names you want to check\n",
        "columns_to_check = [\"노선\", \"기종점\", \"월\", \"정류장순번\", \"정류장\", \"이용자유형\"]\n",
        "\n",
        "# Extract rows where any of the specified columns have null values\n",
        "rows_with_nulls_in_columns = df[df[columns_to_check].isnull().any(axis=1)]\n",
        "\n",
        "index_numbers_with_nulls = rows_with_nulls_in_columns.index\n",
        "\n",
        "# Print the index numbers\n",
        "print(f\"Index numbers of rows with null values in columns {columns_to_check}:\")\n",
        "print(index_numbers_with_nulls)\n",
        "\n",
        "df['노선'] = df['노선'].replace('합계', np.nan)\n",
        "\n",
        "df.loc[index_numbers_with_nulls, '이용자유형'] = '합계'\n",
        "\n",
        "df[columns_to_check] = df[columns_to_check].fillna(method='bfill')\n",
        "\n",
        "df.fillna(0)\n",
        "\n",
        "df.to_csv('노선별 이용량 전처리 23-combine.csv', index=False, encoding='utf-8-sig')"
      ],
      "metadata": {
        "id": "N45rtlzxlSY6"
      },
      "execution_count": null,
      "outputs": []
    },
    {
      "cell_type": "code",
      "source": [],
      "metadata": {
        "id": "LH2ePBZ4lhAt"
      },
      "execution_count": null,
      "outputs": []
    }
  ]
}