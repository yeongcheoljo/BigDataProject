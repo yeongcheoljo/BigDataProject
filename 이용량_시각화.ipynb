{
  "nbformat": 4,
  "nbformat_minor": 0,
  "metadata": {
    "colab": {
      "provenance": []
    },
    "kernelspec": {
      "name": "python3",
      "display_name": "Python 3"
    },
    "language_info": {
      "name": "python"
    }
  },
  "cells": [
    {
      "cell_type": "code",
      "source": [
        "# 단계 1: 폰트 설치\n",
        "import matplotlib.font_manager as fm\n",
        "import matplotlib.pyplot as plt\n",
        "\n",
        "!apt-get -qq -y install fonts-nanum > /dev/null\n",
        "#fontpath = '/usr/share/fonts/truetype/nanum/NanumBarunGothic.ttf'\n",
        "\n",
        "#font = fm.FontProperties(fname=fontpath, size=9)\n",
        "\n",
        "#fm._rebuild()\n",
        "\n",
        "\n",
        "\n",
        "fe = fm.FontEntry(\n",
        "    fname=r'/usr/share/fonts/truetype/nanum/NanumBarunGothic.ttf', # ttf 파일이 저장되어 있는 경로\n",
        "    name='NanumGothic')                        # 이 폰트의 원하는 이름 설정\n",
        "fm.fontManager.ttflist.insert(0, fe)              # Matplotlib에 폰트 추가\n",
        "plt.rcParams.update({'font.size': 18, 'font.family': 'NanumGothic'}) # 폰트 설"
      ],
      "metadata": {
        "id": "Y1vOYi4nWbRU"
      },
      "execution_count": 12,
      "outputs": []
    },
    {
      "cell_type": "code",
      "source": [
        "# 단계 2: 런타임 재시작\n",
        "import os\n",
        "os.kill(os.getpid(), 9)"
      ],
      "metadata": {
        "id": "fqS9DZ6UWc8P"
      },
      "execution_count": null,
      "outputs": []
    },
    {
      "cell_type": "code",
      "source": [
        "# 단계 3: 한글 폰트 설정\n",
        "import matplotlib.pyplot as plt\n",
        "import matplotlib as mpl\n",
        "import matplotlib.font_manager as fm\n",
        "\n",
        "# 마이너스 표시 문제\n",
        "mpl.rcParams['axes.unicode_minus'] = False\n",
        "\n",
        "# 한글 폰트 설정\n",
        "fe = fm.FontEntry(\n",
        "    fname=r'/usr/share/fonts/truetype/nanum/NanumBarunGothic.ttf', # ttf 파일이 저장되어 있는 경로\n",
        "    name='NanumGothic')                        # 이 폰트의 원하는 이름 설정\n",
        "fm.fontManager.ttflist.insert(0, fe)              # Matplotlib에 폰트 추가\n",
        "plt.rcParams.update({'font.size': 18, 'font.family': 'NanumGothic'}) # 폰트 설"
      ],
      "metadata": {
        "id": "cH-VevfAWexz"
      },
      "execution_count": 1,
      "outputs": []
    },
    {
      "cell_type": "code",
      "source": [
        "import pandas as pd\n",
        "import numpy as np\n",
        "\n",
        "file_path = \"/content/노선별 이용량 전처리 23-combine.csv\"\n",
        "\n",
        "df = pd.read_csv(file_path, encoding='utf-8-sig')\n",
        "\n",
        "df_g = df.loc[df.groupby(['노선', '이용자유형', '월'])['합계'].idxmax()]\n",
        "\n",
        "df_g.to_csv('노선_이용자유형_월_max_합계.csv', index=False, encoding='utf-8-sig')"
      ],
      "metadata": {
        "colab": {
          "base_uri": "https://localhost:8080/"
        },
        "id": "11Q5SD6klfiT",
        "outputId": "58ccb0c7-44e0-4b8c-9574-b8a5d3bebe92"
      },
      "execution_count": null,
      "outputs": [
        {
          "output_type": "stream",
          "name": "stderr",
          "text": [
            "<ipython-input-1-8d163f9a9bdf>:6: DtypeWarning: Columns (0) have mixed types. Specify dtype option on import or set low_memory=False.\n",
            "  df = pd.read_csv(file_path, encoding='utf-8-sig')\n"
          ]
        }
      ]
    },
    {
      "cell_type": "code",
      "source": [
        "#전처리 데이터의 '노선'열의 unique값이 int와 str로 나뉘어\n",
        "#데이터를 추출시 519번 1월 데이터의 정류장번호 0~32번 데이터가 나머지 519번 데이터와 조건을 따로 적용하여 추출됨\n",
        "import pandas as pd\n",
        "import numpy as np\n",
        "\n",
        "file_path = \"/content/노선별 이용량 전처리 23-combine.csv\"\n",
        "\n",
        "df = pd.read_csv(file_path, encoding='utf-8-sig')\n",
        "\n",
        "df['노선'].unique()\n"
      ],
      "metadata": {
        "colab": {
          "base_uri": "https://localhost:8080/"
        },
        "id": "fOA3ywtcvKBD",
        "outputId": "3ac9d9cf-1e59-45e1-bcfc-862a2dc95e53"
      },
      "execution_count": 7,
      "outputs": [
        {
          "output_type": "stream",
          "name": "stderr",
          "text": [
            "<ipython-input-7-cb77b939c14c>:6: DtypeWarning: Columns (0) have mixed types. Specify dtype option on import or set low_memory=False.\n",
            "  df = pd.read_csv(file_path, encoding='utf-8-sig')\n"
          ]
        },
        {
          "output_type": "execute_result",
          "data": {
            "text/plain": [
              "array(['111-2', '13', '1601', '27', '46', '5-1', '511', '512', '515',\n",
              "       '516', '517', '518', '519', 519, 5, 8, 9200], dtype=object)"
            ]
          },
          "metadata": {},
          "execution_count": 7
        }
      ]
    },
    {
      "cell_type": "code",
      "source": [
        "#노선, 이용자유형, 월별 '합계' 열의 이용량이 가장 많은 데이터 추출\n",
        "import pandas as pd\n",
        "import numpy as np\n",
        "\n",
        "file_path = \"/content/노선별 이용량 전처리 23-combine.csv\"\n",
        "\n",
        "df = pd.read_csv(file_path, encoding='utf-8-sig', dtype={'노선': str})\n",
        "\n",
        "df_g = df.loc[df.groupby(['노선', '이용자유형', '월'])['합계'].idxmax()]\n",
        "\n",
        "df_g.to_csv('노선_이용자유형_월_max_합계.csv', index=False, encoding='utf-8-sig')"
      ],
      "metadata": {
        "id": "WznEaEczpKEQ"
      },
      "execution_count": 1,
      "outputs": []
    },
    {
      "cell_type": "code",
      "source": [
        "#노선, 이용자유형, 월별 특정 시간대의 이용량이 가장 많은 데이터 추출\n",
        "import pandas as pd\n",
        "import numpy as np\n",
        "\n",
        "file_path = \"/content/노선별 이용량 전처리 23-combine.csv\"\n",
        "\n",
        "df = pd.read_csv(file_path, encoding='utf-8-sig', dtype={'노선': str})\n",
        "\n",
        "for month in range(5, 24):\n",
        "    month_str = f\"{month:02}\"\n",
        "\n",
        "    if month_str in df.columns:\n",
        "        df_g = df.loc[df.groupby(['노선', '이용자유형', '월'])[month_str].idxmax()]\n",
        "        df_g[df_g['이용자유형'] == '합계'].drop\n",
        "\n",
        "        output_file = f\"노선_이용자유형_월_max_{month_str}.csv\"\n",
        "        df_g.to_csv(output_file, index=False, encoding='utf-8-sig')\n",
        "        print(f\"Saved file for column '{month_str}' to '{output_file}'\")\n",
        "    else:\n",
        "        print(f\"Column '{month_str}' does not exist in the DataFrame. Skipping...\")"
      ],
      "metadata": {
        "colab": {
          "base_uri": "https://localhost:8080/"
        },
        "id": "P7jtq8ue9QUK",
        "outputId": "22a9d418-93ac-44f1-dce4-c383caf79526"
      },
      "execution_count": 2,
      "outputs": [
        {
          "output_type": "stream",
          "name": "stdout",
          "text": [
            "Saved file for column '05' to '노선_이용자유형_월_max_05.csv'\n",
            "Saved file for column '06' to '노선_이용자유형_월_max_06.csv'\n",
            "Saved file for column '07' to '노선_이용자유형_월_max_07.csv'\n",
            "Saved file for column '08' to '노선_이용자유형_월_max_08.csv'\n",
            "Saved file for column '09' to '노선_이용자유형_월_max_09.csv'\n",
            "Saved file for column '10' to '노선_이용자유형_월_max_10.csv'\n",
            "Saved file for column '11' to '노선_이용자유형_월_max_11.csv'\n",
            "Saved file for column '12' to '노선_이용자유형_월_max_12.csv'\n",
            "Saved file for column '13' to '노선_이용자유형_월_max_13.csv'\n",
            "Saved file for column '14' to '노선_이용자유형_월_max_14.csv'\n",
            "Saved file for column '15' to '노선_이용자유형_월_max_15.csv'\n",
            "Saved file for column '16' to '노선_이용자유형_월_max_16.csv'\n",
            "Saved file for column '17' to '노선_이용자유형_월_max_17.csv'\n",
            "Saved file for column '18' to '노선_이용자유형_월_max_18.csv'\n",
            "Saved file for column '19' to '노선_이용자유형_월_max_19.csv'\n",
            "Saved file for column '20' to '노선_이용자유형_월_max_20.csv'\n",
            "Saved file for column '21' to '노선_이용자유형_월_max_21.csv'\n",
            "Saved file for column '22' to '노선_이용자유형_월_max_22.csv'\n",
            "Saved file for column '23' to '노선_이용자유형_월_max_23.csv'\n"
          ]
        }
      ]
    },
    {
      "cell_type": "code",
      "source": [
        "#노선, 이용자유형, 월별 이용량이 가장 많은 데이터 합산\n",
        "from openpyxl import load_workbook\n",
        "import pandas as pd\n",
        "import glob\n",
        "\n",
        "\n",
        "file_path = \"/content/노선_이용자유형_월_max_*.csv\"\n",
        "all_files = sorted(glob.glob(file_path))\n",
        "\n",
        "df_list = []\n",
        "\n",
        "for file in all_files:\n",
        "    df = pd.read_csv(file, encoding='utf-8-sig')\n",
        "    df_list.append(df)\n",
        "\n",
        "combined_df = pd.concat(df_list, ignore_index=True)\n",
        "\n",
        "combined_df.to_csv('노선_이용자유형_월_max_combine.csv', index=False, encoding='utf-8-sig')"
      ],
      "metadata": {
        "id": "zavgKbjcB9Sd"
      },
      "execution_count": 3,
      "outputs": []
    },
    {
      "cell_type": "code",
      "source": [
        "#'이용자유형' 열의 값이 '합계'인 행 제거\n",
        "import pandas as pd\n",
        "import numpy as np\n",
        "\n",
        "file_path = \"/content/노선_이용자유형_월_max_combine.csv\"\n",
        "\n",
        "df = pd.read_csv(file_path, encoding='utf-8-sig')\n",
        "\n",
        "df = df[df['이용자유형'] != '합계']\n",
        "\n",
        "df.to_csv('노선_이용자유형_월_max_combine_합계제거.csv', index=False, encoding='utf-8-sig')"
      ],
      "metadata": {
        "id": "L_az5jqSTTGV"
      },
      "execution_count": 4,
      "outputs": []
    },
    {
      "cell_type": "code",
      "source": [
        "#이용량 많은 상위 10개 정류장 이용량 시각화\n",
        "import pandas as pd\n",
        "import numpy as np\n",
        "import matplotlib.pyplot as plt\n",
        "from google.colab import files\n",
        "\n",
        "file_path = \"/content/노선_이용자유형_월_max_combine_합계제거.csv\"\n",
        "\n",
        "df = pd.read_csv(file_path, encoding='utf-8-sig')\n",
        "\n",
        "#전체 정류장 수count\n",
        "df_g = df['정류장'].value_counts()\n",
        "\n",
        "#데이터 시각화\n",
        "#데이터의 상위10개 데이터를 그래프로 시각화\n",
        "top_10 = df_g.head(10)  # 상위 10개 추출\n",
        "plt.figure(figsize=(10, 6))  # 그래프 크기 설정\n",
        "top_10.plot(kind='bar', color='skyblue', edgecolor='black')\n",
        "plt.title(f\"전체 이용량이 많은 정류장 (상위 10개)\", fontsize=14)\n",
        "plt.xlabel(\"정류장\", fontsize=12)\n",
        "plt.ylabel(\"이용량 (건수)\", fontsize=12)\n",
        "plt.xticks(rotation=45, ha='right')  # x축 라벨 회전\n",
        "plt.tight_layout()  # 그래프 여백 조정\n",
        "plt.grid(axis='y', linestyle='--', alpha=0.7)\n",
        "\n",
        "#그래프 저장\n",
        "graph_file = f\"전체 이용량 많은 정류장.png\"\n",
        "plt.savefig(graph_file, dpi=300)\n",
        "plt.close()\n",
        "\n",
        "#그래프 다운로드\n",
        "files.download(graph_file)\n",
        "\n",
        "df_g.to_csv('이용량 많은 정류장 count.csv', index=True, encoding='utf-8-sig')"
      ],
      "metadata": {
        "colab": {
          "base_uri": "https://localhost:8080/",
          "height": 17
        },
        "id": "G5bS4I_yEN2T",
        "outputId": "06cefce6-7d4b-447a-de42-e5b4efe0c395"
      },
      "execution_count": 2,
      "outputs": [
        {
          "output_type": "display_data",
          "data": {
            "text/plain": [
              "<IPython.core.display.Javascript object>"
            ],
            "application/javascript": [
              "\n",
              "    async function download(id, filename, size) {\n",
              "      if (!google.colab.kernel.accessAllowed) {\n",
              "        return;\n",
              "      }\n",
              "      const div = document.createElement('div');\n",
              "      const label = document.createElement('label');\n",
              "      label.textContent = `Downloading \"${filename}\": `;\n",
              "      div.appendChild(label);\n",
              "      const progress = document.createElement('progress');\n",
              "      progress.max = size;\n",
              "      div.appendChild(progress);\n",
              "      document.body.appendChild(div);\n",
              "\n",
              "      const buffers = [];\n",
              "      let downloaded = 0;\n",
              "\n",
              "      const channel = await google.colab.kernel.comms.open(id);\n",
              "      // Send a message to notify the kernel that we're ready.\n",
              "      channel.send({})\n",
              "\n",
              "      for await (const message of channel.messages) {\n",
              "        // Send a message to notify the kernel that we're ready.\n",
              "        channel.send({})\n",
              "        if (message.buffers) {\n",
              "          for (const buffer of message.buffers) {\n",
              "            buffers.push(buffer);\n",
              "            downloaded += buffer.byteLength;\n",
              "            progress.value = downloaded;\n",
              "          }\n",
              "        }\n",
              "      }\n",
              "      const blob = new Blob(buffers, {type: 'application/binary'});\n",
              "      const a = document.createElement('a');\n",
              "      a.href = window.URL.createObjectURL(blob);\n",
              "      a.download = filename;\n",
              "      div.appendChild(a);\n",
              "      a.click();\n",
              "      div.remove();\n",
              "    }\n",
              "  "
            ]
          },
          "metadata": {}
        },
        {
          "output_type": "display_data",
          "data": {
            "text/plain": [
              "<IPython.core.display.Javascript object>"
            ],
            "application/javascript": [
              "download(\"download_dd154ade-b7a4-4824-8d80-c85ac3024d5c\", \"\\uc804\\uccb4 \\uc774\\uc6a9\\ub7c9 \\ub9ce\\uc740 \\uc815\\ub958\\uc7a5.png\", 289706)"
            ]
          },
          "metadata": {}
        }
      ]
    },
    {
      "cell_type": "code",
      "source": [
        "#월별, 이용자유형별 이용량 많은 상위10개 정류장 이용량 시각화\n",
        "import pandas as pd\n",
        "import matplotlib.pyplot as plt\n",
        "from google.colab import files\n",
        "\n",
        "# File path\n",
        "file_path = \"/content/노선_이용자유형_월_max_combine_합계제거.csv\"\n",
        "\n",
        "# Load data\n",
        "df = pd.read_csv(file_path, encoding='utf-8-sig')\n",
        "\n",
        "# 월별 정류장 수count\n",
        "#df_g = df.groupby(['월'])['정류장'].value_counts().reset_index(name='count')\n",
        "\n",
        "#이용자유형별 정류장 수count\n",
        "#df_g = df.groupby(['이용자유형'])['정류장'].value_counts().reset_index(name='count')\n",
        "\n",
        "#월별, 이용자유형별로 그룹을 만들어 상위10개 데이터 추출\n",
        "top_5_per_month = df_g.groupby('노선').apply(lambda x: x.nlargest(10, 'count')).reset_index(drop=True)\n",
        "\n",
        "# Pivot the data for grouped bar chart\n",
        "pivot_data = top_5_per_month.pivot(index='정류장', columns='노선', values='count').fillna(0)\n",
        "\n",
        "# Plot grouped bar chart\n",
        "pivot_data.plot(kind='bar', figsize=(14, 8), width=0.8, colormap='viridis', edgecolor='black')\n",
        "\n",
        "# Set plot styles\n",
        "plt.title(\"노선별 이용량 많은 상위10개 정류장 이용량\", fontsize=16)\n",
        "plt.xlabel(\"정류장\", fontsize=14)\n",
        "plt.ylabel(\"이용량\", fontsize=14)\n",
        "plt.xticks(rotation=45, ha='right')\n",
        "plt.legend(title=\"노선\", fontsize=10)\n",
        "plt.tight_layout()\n",
        "plt.grid(axis='y', linestyle='--', alpha=0.7)\n",
        "\n",
        "# Save and download the graph\n",
        "graph_file = \"노선별 이용량 많은 상위10개 정류장 이용량.png\"\n",
        "plt.savefig(graph_file, dpi=300)\n",
        "plt.close()\n",
        "files.download(graph_file)\n",
        "\n",
        "# Save and download the top 5 stops per month as a CSV\n",
        "output_csv = \"노선별 이용량 많은 상위10개 정류장 이용량.csv\"\n",
        "top_5_per_month.to_csv(output_csv, index=False, encoding='utf-8-sig')\n",
        "files.download(output_csv)"
      ],
      "metadata": {
        "colab": {
          "base_uri": "https://localhost:8080/",
          "height": 73
        },
        "id": "dx_PcOXDuiJY",
        "outputId": "42febf48-cf98-4abd-9fa8-1083c3096c20"
      },
      "execution_count": 10,
      "outputs": [
        {
          "output_type": "stream",
          "name": "stderr",
          "text": [
            "<ipython-input-10-2d2df8e06f23>:23: DeprecationWarning: DataFrameGroupBy.apply operated on the grouping columns. This behavior is deprecated, and in a future version of pandas the grouping columns will be excluded from the operation. Either pass `include_groups=False` to exclude the groupings or explicitly select the grouping columns after groupby to silence this warning.\n",
            "  top_5_per_month = df_g.groupby('노선').apply(lambda x: x.nlargest(5, 'count')).reset_index(drop=True)\n"
          ]
        },
        {
          "output_type": "display_data",
          "data": {
            "text/plain": [
              "<IPython.core.display.Javascript object>"
            ],
            "application/javascript": [
              "\n",
              "    async function download(id, filename, size) {\n",
              "      if (!google.colab.kernel.accessAllowed) {\n",
              "        return;\n",
              "      }\n",
              "      const div = document.createElement('div');\n",
              "      const label = document.createElement('label');\n",
              "      label.textContent = `Downloading \"${filename}\": `;\n",
              "      div.appendChild(label);\n",
              "      const progress = document.createElement('progress');\n",
              "      progress.max = size;\n",
              "      div.appendChild(progress);\n",
              "      document.body.appendChild(div);\n",
              "\n",
              "      const buffers = [];\n",
              "      let downloaded = 0;\n",
              "\n",
              "      const channel = await google.colab.kernel.comms.open(id);\n",
              "      // Send a message to notify the kernel that we're ready.\n",
              "      channel.send({})\n",
              "\n",
              "      for await (const message of channel.messages) {\n",
              "        // Send a message to notify the kernel that we're ready.\n",
              "        channel.send({})\n",
              "        if (message.buffers) {\n",
              "          for (const buffer of message.buffers) {\n",
              "            buffers.push(buffer);\n",
              "            downloaded += buffer.byteLength;\n",
              "            progress.value = downloaded;\n",
              "          }\n",
              "        }\n",
              "      }\n",
              "      const blob = new Blob(buffers, {type: 'application/binary'});\n",
              "      const a = document.createElement('a');\n",
              "      a.href = window.URL.createObjectURL(blob);\n",
              "      a.download = filename;\n",
              "      div.appendChild(a);\n",
              "      a.click();\n",
              "      div.remove();\n",
              "    }\n",
              "  "
            ]
          },
          "metadata": {}
        },
        {
          "output_type": "display_data",
          "data": {
            "text/plain": [
              "<IPython.core.display.Javascript object>"
            ],
            "application/javascript": [
              "download(\"download_b17a784d-0be0-447b-9436-68255af4d709\", \"\\ub178\\uc120\\ubcc4 \\uc774\\uc6a9\\ub7c9 \\ub9ce\\uc740 \\uc0c1\\uc7045\\uac1c \\uc815\\ub958\\uc7a5 \\uc774\\uc6a9\\ub7c9.png\", 981327)"
            ]
          },
          "metadata": {}
        },
        {
          "output_type": "display_data",
          "data": {
            "text/plain": [
              "<IPython.core.display.Javascript object>"
            ],
            "application/javascript": [
              "\n",
              "    async function download(id, filename, size) {\n",
              "      if (!google.colab.kernel.accessAllowed) {\n",
              "        return;\n",
              "      }\n",
              "      const div = document.createElement('div');\n",
              "      const label = document.createElement('label');\n",
              "      label.textContent = `Downloading \"${filename}\": `;\n",
              "      div.appendChild(label);\n",
              "      const progress = document.createElement('progress');\n",
              "      progress.max = size;\n",
              "      div.appendChild(progress);\n",
              "      document.body.appendChild(div);\n",
              "\n",
              "      const buffers = [];\n",
              "      let downloaded = 0;\n",
              "\n",
              "      const channel = await google.colab.kernel.comms.open(id);\n",
              "      // Send a message to notify the kernel that we're ready.\n",
              "      channel.send({})\n",
              "\n",
              "      for await (const message of channel.messages) {\n",
              "        // Send a message to notify the kernel that we're ready.\n",
              "        channel.send({})\n",
              "        if (message.buffers) {\n",
              "          for (const buffer of message.buffers) {\n",
              "            buffers.push(buffer);\n",
              "            downloaded += buffer.byteLength;\n",
              "            progress.value = downloaded;\n",
              "          }\n",
              "        }\n",
              "      }\n",
              "      const blob = new Blob(buffers, {type: 'application/binary'});\n",
              "      const a = document.createElement('a');\n",
              "      a.href = window.URL.createObjectURL(blob);\n",
              "      a.download = filename;\n",
              "      div.appendChild(a);\n",
              "      a.click();\n",
              "      div.remove();\n",
              "    }\n",
              "  "
            ]
          },
          "metadata": {}
        },
        {
          "output_type": "display_data",
          "data": {
            "text/plain": [
              "<IPython.core.display.Javascript object>"
            ],
            "application/javascript": [
              "download(\"download_ed456284-a215-4685-b764-d36e2ac110ce\", \"\\ub178\\uc120\\ubcc4 \\uc774\\uc6a9\\ub7c9 \\ub9ce\\uc740 \\uc0c1\\uc7045\\uac1c \\uc815\\ub958\\uc7a5 \\uc774\\uc6a9\\ub7c9.csv\", 2450)"
            ]
          },
          "metadata": {}
        }
      ]
    },
    {
      "cell_type": "code",
      "source": [
        "#노선별 이용량 많은 상위10개 정류장 이용량 시각화\n",
        "import pandas as pd\n",
        "import matplotlib.pyplot as plt\n",
        "from google.colab import files\n",
        "import plotly.express as px\n",
        "\n",
        "# File path\n",
        "file_path = \"/content/노선_이용자유형_월_max_combine_합계제거.csv\"\n",
        "\n",
        "# Load data\n",
        "df = pd.read_csv(file_path, encoding='utf-8-sig')\n",
        "\n",
        "#노선별 정류장 수count\n",
        "df_g = df.groupby(['노선'])['정류장'].value_counts().reset_index(name='count')\n",
        "\n",
        "#노선별로 그룹을 만들어 상위10개 데이터 추출\n",
        "top_10_per_route = df_g.groupby('노선').apply(lambda x: x.nlargest(10, 'count')).reset_index(drop=True)\n",
        "\n",
        "# Create the interactive plot\n",
        "fig = px.bar(\n",
        "    top_10_per_route,\n",
        "    x=\"정류장\",\n",
        "    y=\"count\",\n",
        "    color=\"노선\",\n",
        "    animation_frame=\"노선\",  # Adds a dropdown to select the route\n",
        "    title=\"노선별 이용량 많은 상위10개 정류장 이용량\",\n",
        "    labels={\"count\": \"이용량\", \"정류장\": \"정류장\", \"노선\": \"노선\"},\n",
        "    color_discrete_sequence=px.colors.qualitative.Vivid\n",
        ")\n",
        "\n",
        "# Customize layout\n",
        "fig.update_layout(\n",
        "    xaxis=dict(title=\"정류장\", tickangle=45),\n",
        "    yaxis=dict(title=\"이용량\"),\n",
        "    legend=dict(title=\"노선\"),\n",
        "    margin=dict(l=50, r=50, t=50, b=50),\n",
        "    showlegend=False,\n",
        ")\n",
        "\n",
        "# Show the plot\n",
        "fig.show()\n",
        "\n",
        "# Save as an interactive HTML file\n",
        "fig.write_html(\"노선별 이용량 많은 상위10개 정류장 이용량.html\")\n",
        "files.download(\"노선별 이용량 많은 상위10개 정류장 이용량.html\")  # Download the HTML file\n",
        "\n",
        "# Save the data to CSV\n",
        "output_csv = \"노선별 이용량 많은 상위10개 정류장 이용량.csv\"\n",
        "top_5_per_month.to_csv(output_csv, index=False, encoding='utf-8-sig')\n",
        "files.download(output_csv)"
      ],
      "metadata": {
        "colab": {
          "base_uri": "https://localhost:8080/",
          "height": 633
        },
        "id": "QtCzs_yP_esT",
        "outputId": "0c3b645c-5d91-4733-9614-fad9ba49aee2"
      },
      "execution_count": 18,
      "outputs": [
        {
          "output_type": "stream",
          "name": "stderr",
          "text": [
            "<ipython-input-18-a60405c37b8f>:16: DeprecationWarning:\n",
            "\n",
            "DataFrameGroupBy.apply operated on the grouping columns. This behavior is deprecated, and in a future version of pandas the grouping columns will be excluded from the operation. Either pass `include_groups=False` to exclude the groupings or explicitly select the grouping columns after groupby to silence this warning.\n",
            "\n"
          ]
        },
        {
          "output_type": "display_data",
          "data": {
            "text/html": [
              "<html>\n",
              "<head><meta charset=\"utf-8\" /></head>\n",
              "<body>\n",
              "    <div>            <script src=\"https://cdnjs.cloudflare.com/ajax/libs/mathjax/2.7.5/MathJax.js?config=TeX-AMS-MML_SVG\"></script><script type=\"text/javascript\">if (window.MathJax && window.MathJax.Hub && window.MathJax.Hub.Config) {window.MathJax.Hub.Config({SVG: {font: \"STIX-Web\"}});}</script>                <script type=\"text/javascript\">window.PlotlyConfig = {MathJaxConfig: 'local'};</script>\n",
              "        <script charset=\"utf-8\" src=\"https://cdn.plot.ly/plotly-2.35.2.min.js\"></script>                <div id=\"541ce4c5-4ccc-42e2-94b2-9385807d252b\" class=\"plotly-graph-div\" style=\"height:525px; width:100%;\"></div>            <script type=\"text/javascript\">                                    window.PLOTLYENV=window.PLOTLYENV || {};                                    if (document.getElementById(\"541ce4c5-4ccc-42e2-94b2-9385807d252b\")) {                    Plotly.newPlot(                        \"541ce4c5-4ccc-42e2-94b2-9385807d252b\",                        [{\"alignmentgroup\":\"True\",\"hovertemplate\":\"노선=111-2\\u003cbr\\u003e정류장=%{x}\\u003cbr\\u003e이용량=%{y}\\u003cextra\\u003e\\u003c\\u002fextra\\u003e\",\"legendgroup\":\"111-2\",\"marker\":{\"color\":\"rgb(229, 134, 6)\",\"pattern\":{\"shape\":\"\"}},\"name\":\"111-2\",\"offsetgroup\":\"111-2\",\"orientation\":\"v\",\"showlegend\":true,\"textposition\":\"auto\",\"x\":[\"롯데백화점(인천터미널)\",\"현대3차아파트\",\"인하대역(7번출구)\",\"인하대역(1번출구)\",\"원흥아파트\",\"문학초등학교\",\"백운역\",\"인명여자고등학교\",\"길병원\",\"법원.검찰청\"],\"xaxis\":\"x\",\"y\":[336,141,120,101,97,62,49,49,48,39],\"yaxis\":\"y\",\"type\":\"bar\"}],                        {\"template\":{\"data\":{\"histogram2dcontour\":[{\"type\":\"histogram2dcontour\",\"colorbar\":{\"outlinewidth\":0,\"ticks\":\"\"},\"colorscale\":[[0.0,\"#0d0887\"],[0.1111111111111111,\"#46039f\"],[0.2222222222222222,\"#7201a8\"],[0.3333333333333333,\"#9c179e\"],[0.4444444444444444,\"#bd3786\"],[0.5555555555555556,\"#d8576b\"],[0.6666666666666666,\"#ed7953\"],[0.7777777777777778,\"#fb9f3a\"],[0.8888888888888888,\"#fdca26\"],[1.0,\"#f0f921\"]]}],\"choropleth\":[{\"type\":\"choropleth\",\"colorbar\":{\"outlinewidth\":0,\"ticks\":\"\"}}],\"histogram2d\":[{\"type\":\"histogram2d\",\"colorbar\":{\"outlinewidth\":0,\"ticks\":\"\"},\"colorscale\":[[0.0,\"#0d0887\"],[0.1111111111111111,\"#46039f\"],[0.2222222222222222,\"#7201a8\"],[0.3333333333333333,\"#9c179e\"],[0.4444444444444444,\"#bd3786\"],[0.5555555555555556,\"#d8576b\"],[0.6666666666666666,\"#ed7953\"],[0.7777777777777778,\"#fb9f3a\"],[0.8888888888888888,\"#fdca26\"],[1.0,\"#f0f921\"]]}],\"heatmap\":[{\"type\":\"heatmap\",\"colorbar\":{\"outlinewidth\":0,\"ticks\":\"\"},\"colorscale\":[[0.0,\"#0d0887\"],[0.1111111111111111,\"#46039f\"],[0.2222222222222222,\"#7201a8\"],[0.3333333333333333,\"#9c179e\"],[0.4444444444444444,\"#bd3786\"],[0.5555555555555556,\"#d8576b\"],[0.6666666666666666,\"#ed7953\"],[0.7777777777777778,\"#fb9f3a\"],[0.8888888888888888,\"#fdca26\"],[1.0,\"#f0f921\"]]}],\"heatmapgl\":[{\"type\":\"heatmapgl\",\"colorbar\":{\"outlinewidth\":0,\"ticks\":\"\"},\"colorscale\":[[0.0,\"#0d0887\"],[0.1111111111111111,\"#46039f\"],[0.2222222222222222,\"#7201a8\"],[0.3333333333333333,\"#9c179e\"],[0.4444444444444444,\"#bd3786\"],[0.5555555555555556,\"#d8576b\"],[0.6666666666666666,\"#ed7953\"],[0.7777777777777778,\"#fb9f3a\"],[0.8888888888888888,\"#fdca26\"],[1.0,\"#f0f921\"]]}],\"contourcarpet\":[{\"type\":\"contourcarpet\",\"colorbar\":{\"outlinewidth\":0,\"ticks\":\"\"}}],\"contour\":[{\"type\":\"contour\",\"colorbar\":{\"outlinewidth\":0,\"ticks\":\"\"},\"colorscale\":[[0.0,\"#0d0887\"],[0.1111111111111111,\"#46039f\"],[0.2222222222222222,\"#7201a8\"],[0.3333333333333333,\"#9c179e\"],[0.4444444444444444,\"#bd3786\"],[0.5555555555555556,\"#d8576b\"],[0.6666666666666666,\"#ed7953\"],[0.7777777777777778,\"#fb9f3a\"],[0.8888888888888888,\"#fdca26\"],[1.0,\"#f0f921\"]]}],\"surface\":[{\"type\":\"surface\",\"colorbar\":{\"outlinewidth\":0,\"ticks\":\"\"},\"colorscale\":[[0.0,\"#0d0887\"],[0.1111111111111111,\"#46039f\"],[0.2222222222222222,\"#7201a8\"],[0.3333333333333333,\"#9c179e\"],[0.4444444444444444,\"#bd3786\"],[0.5555555555555556,\"#d8576b\"],[0.6666666666666666,\"#ed7953\"],[0.7777777777777778,\"#fb9f3a\"],[0.8888888888888888,\"#fdca26\"],[1.0,\"#f0f921\"]]}],\"mesh3d\":[{\"type\":\"mesh3d\",\"colorbar\":{\"outlinewidth\":0,\"ticks\":\"\"}}],\"scatter\":[{\"fillpattern\":{\"fillmode\":\"overlay\",\"size\":10,\"solidity\":0.2},\"type\":\"scatter\"}],\"parcoords\":[{\"type\":\"parcoords\",\"line\":{\"colorbar\":{\"outlinewidth\":0,\"ticks\":\"\"}}}],\"scatterpolargl\":[{\"type\":\"scatterpolargl\",\"marker\":{\"colorbar\":{\"outlinewidth\":0,\"ticks\":\"\"}}}],\"bar\":[{\"error_x\":{\"color\":\"#2a3f5f\"},\"error_y\":{\"color\":\"#2a3f5f\"},\"marker\":{\"line\":{\"color\":\"#E5ECF6\",\"width\":0.5},\"pattern\":{\"fillmode\":\"overlay\",\"size\":10,\"solidity\":0.2}},\"type\":\"bar\"}],\"scattergeo\":[{\"type\":\"scattergeo\",\"marker\":{\"colorbar\":{\"outlinewidth\":0,\"ticks\":\"\"}}}],\"scatterpolar\":[{\"type\":\"scatterpolar\",\"marker\":{\"colorbar\":{\"outlinewidth\":0,\"ticks\":\"\"}}}],\"histogram\":[{\"marker\":{\"pattern\":{\"fillmode\":\"overlay\",\"size\":10,\"solidity\":0.2}},\"type\":\"histogram\"}],\"scattergl\":[{\"type\":\"scattergl\",\"marker\":{\"colorbar\":{\"outlinewidth\":0,\"ticks\":\"\"}}}],\"scatter3d\":[{\"type\":\"scatter3d\",\"line\":{\"colorbar\":{\"outlinewidth\":0,\"ticks\":\"\"}},\"marker\":{\"colorbar\":{\"outlinewidth\":0,\"ticks\":\"\"}}}],\"scattermapbox\":[{\"type\":\"scattermapbox\",\"marker\":{\"colorbar\":{\"outlinewidth\":0,\"ticks\":\"\"}}}],\"scatterternary\":[{\"type\":\"scatterternary\",\"marker\":{\"colorbar\":{\"outlinewidth\":0,\"ticks\":\"\"}}}],\"scattercarpet\":[{\"type\":\"scattercarpet\",\"marker\":{\"colorbar\":{\"outlinewidth\":0,\"ticks\":\"\"}}}],\"carpet\":[{\"aaxis\":{\"endlinecolor\":\"#2a3f5f\",\"gridcolor\":\"white\",\"linecolor\":\"white\",\"minorgridcolor\":\"white\",\"startlinecolor\":\"#2a3f5f\"},\"baxis\":{\"endlinecolor\":\"#2a3f5f\",\"gridcolor\":\"white\",\"linecolor\":\"white\",\"minorgridcolor\":\"white\",\"startlinecolor\":\"#2a3f5f\"},\"type\":\"carpet\"}],\"table\":[{\"cells\":{\"fill\":{\"color\":\"#EBF0F8\"},\"line\":{\"color\":\"white\"}},\"header\":{\"fill\":{\"color\":\"#C8D4E3\"},\"line\":{\"color\":\"white\"}},\"type\":\"table\"}],\"barpolar\":[{\"marker\":{\"line\":{\"color\":\"#E5ECF6\",\"width\":0.5},\"pattern\":{\"fillmode\":\"overlay\",\"size\":10,\"solidity\":0.2}},\"type\":\"barpolar\"}],\"pie\":[{\"automargin\":true,\"type\":\"pie\"}]},\"layout\":{\"autotypenumbers\":\"strict\",\"colorway\":[\"#636efa\",\"#EF553B\",\"#00cc96\",\"#ab63fa\",\"#FFA15A\",\"#19d3f3\",\"#FF6692\",\"#B6E880\",\"#FF97FF\",\"#FECB52\"],\"font\":{\"color\":\"#2a3f5f\"},\"hovermode\":\"closest\",\"hoverlabel\":{\"align\":\"left\"},\"paper_bgcolor\":\"white\",\"plot_bgcolor\":\"#E5ECF6\",\"polar\":{\"bgcolor\":\"#E5ECF6\",\"angularaxis\":{\"gridcolor\":\"white\",\"linecolor\":\"white\",\"ticks\":\"\"},\"radialaxis\":{\"gridcolor\":\"white\",\"linecolor\":\"white\",\"ticks\":\"\"}},\"ternary\":{\"bgcolor\":\"#E5ECF6\",\"aaxis\":{\"gridcolor\":\"white\",\"linecolor\":\"white\",\"ticks\":\"\"},\"baxis\":{\"gridcolor\":\"white\",\"linecolor\":\"white\",\"ticks\":\"\"},\"caxis\":{\"gridcolor\":\"white\",\"linecolor\":\"white\",\"ticks\":\"\"}},\"coloraxis\":{\"colorbar\":{\"outlinewidth\":0,\"ticks\":\"\"}},\"colorscale\":{\"sequential\":[[0.0,\"#0d0887\"],[0.1111111111111111,\"#46039f\"],[0.2222222222222222,\"#7201a8\"],[0.3333333333333333,\"#9c179e\"],[0.4444444444444444,\"#bd3786\"],[0.5555555555555556,\"#d8576b\"],[0.6666666666666666,\"#ed7953\"],[0.7777777777777778,\"#fb9f3a\"],[0.8888888888888888,\"#fdca26\"],[1.0,\"#f0f921\"]],\"sequentialminus\":[[0.0,\"#0d0887\"],[0.1111111111111111,\"#46039f\"],[0.2222222222222222,\"#7201a8\"],[0.3333333333333333,\"#9c179e\"],[0.4444444444444444,\"#bd3786\"],[0.5555555555555556,\"#d8576b\"],[0.6666666666666666,\"#ed7953\"],[0.7777777777777778,\"#fb9f3a\"],[0.8888888888888888,\"#fdca26\"],[1.0,\"#f0f921\"]],\"diverging\":[[0,\"#8e0152\"],[0.1,\"#c51b7d\"],[0.2,\"#de77ae\"],[0.3,\"#f1b6da\"],[0.4,\"#fde0ef\"],[0.5,\"#f7f7f7\"],[0.6,\"#e6f5d0\"],[0.7,\"#b8e186\"],[0.8,\"#7fbc41\"],[0.9,\"#4d9221\"],[1,\"#276419\"]]},\"xaxis\":{\"gridcolor\":\"white\",\"linecolor\":\"white\",\"ticks\":\"\",\"title\":{\"standoff\":15},\"zerolinecolor\":\"white\",\"automargin\":true,\"zerolinewidth\":2},\"yaxis\":{\"gridcolor\":\"white\",\"linecolor\":\"white\",\"ticks\":\"\",\"title\":{\"standoff\":15},\"zerolinecolor\":\"white\",\"automargin\":true,\"zerolinewidth\":2},\"scene\":{\"xaxis\":{\"backgroundcolor\":\"#E5ECF6\",\"gridcolor\":\"white\",\"linecolor\":\"white\",\"showbackground\":true,\"ticks\":\"\",\"zerolinecolor\":\"white\",\"gridwidth\":2},\"yaxis\":{\"backgroundcolor\":\"#E5ECF6\",\"gridcolor\":\"white\",\"linecolor\":\"white\",\"showbackground\":true,\"ticks\":\"\",\"zerolinecolor\":\"white\",\"gridwidth\":2},\"zaxis\":{\"backgroundcolor\":\"#E5ECF6\",\"gridcolor\":\"white\",\"linecolor\":\"white\",\"showbackground\":true,\"ticks\":\"\",\"zerolinecolor\":\"white\",\"gridwidth\":2}},\"shapedefaults\":{\"line\":{\"color\":\"#2a3f5f\"}},\"annotationdefaults\":{\"arrowcolor\":\"#2a3f5f\",\"arrowhead\":0,\"arrowwidth\":1},\"geo\":{\"bgcolor\":\"white\",\"landcolor\":\"#E5ECF6\",\"subunitcolor\":\"white\",\"showland\":true,\"showlakes\":true,\"lakecolor\":\"white\"},\"title\":{\"x\":0.05},\"mapbox\":{\"style\":\"light\"}}},\"xaxis\":{\"anchor\":\"y\",\"domain\":[0.0,1.0],\"title\":{\"text\":\"정류장\"},\"tickangle\":45},\"yaxis\":{\"anchor\":\"x\",\"domain\":[0.0,1.0],\"title\":{\"text\":\"이용량\"}},\"legend\":{\"title\":{\"text\":\"노선\"},\"tracegroupgap\":0},\"title\":{\"text\":\"노선별 이용량 많은 상위10개 정류장 이용량\"},\"barmode\":\"relative\",\"updatemenus\":[{\"buttons\":[{\"args\":[null,{\"frame\":{\"duration\":500,\"redraw\":true},\"mode\":\"immediate\",\"fromcurrent\":true,\"transition\":{\"duration\":500,\"easing\":\"linear\"}}],\"label\":\"&#9654;\",\"method\":\"animate\"},{\"args\":[[null],{\"frame\":{\"duration\":0,\"redraw\":true},\"mode\":\"immediate\",\"fromcurrent\":true,\"transition\":{\"duration\":0,\"easing\":\"linear\"}}],\"label\":\"&#9724;\",\"method\":\"animate\"}],\"direction\":\"left\",\"pad\":{\"r\":10,\"t\":70},\"showactive\":false,\"type\":\"buttons\",\"x\":0.1,\"xanchor\":\"right\",\"y\":0,\"yanchor\":\"top\"}],\"sliders\":[{\"active\":0,\"currentvalue\":{\"prefix\":\"노선=\"},\"len\":0.9,\"pad\":{\"b\":10,\"t\":60},\"steps\":[{\"args\":[[\"111-2\"],{\"frame\":{\"duration\":0,\"redraw\":true},\"mode\":\"immediate\",\"fromcurrent\":true,\"transition\":{\"duration\":0,\"easing\":\"linear\"}}],\"label\":\"111-2\",\"method\":\"animate\"},{\"args\":[[\"13\"],{\"frame\":{\"duration\":0,\"redraw\":true},\"mode\":\"immediate\",\"fromcurrent\":true,\"transition\":{\"duration\":0,\"easing\":\"linear\"}}],\"label\":\"13\",\"method\":\"animate\"},{\"args\":[[\"1601\"],{\"frame\":{\"duration\":0,\"redraw\":true},\"mode\":\"immediate\",\"fromcurrent\":true,\"transition\":{\"duration\":0,\"easing\":\"linear\"}}],\"label\":\"1601\",\"method\":\"animate\"},{\"args\":[[\"27\"],{\"frame\":{\"duration\":0,\"redraw\":true},\"mode\":\"immediate\",\"fromcurrent\":true,\"transition\":{\"duration\":0,\"easing\":\"linear\"}}],\"label\":\"27\",\"method\":\"animate\"},{\"args\":[[\"46\"],{\"frame\":{\"duration\":0,\"redraw\":true},\"mode\":\"immediate\",\"fromcurrent\":true,\"transition\":{\"duration\":0,\"easing\":\"linear\"}}],\"label\":\"46\",\"method\":\"animate\"},{\"args\":[[\"5\"],{\"frame\":{\"duration\":0,\"redraw\":true},\"mode\":\"immediate\",\"fromcurrent\":true,\"transition\":{\"duration\":0,\"easing\":\"linear\"}}],\"label\":\"5\",\"method\":\"animate\"},{\"args\":[[\"5-1\"],{\"frame\":{\"duration\":0,\"redraw\":true},\"mode\":\"immediate\",\"fromcurrent\":true,\"transition\":{\"duration\":0,\"easing\":\"linear\"}}],\"label\":\"5-1\",\"method\":\"animate\"},{\"args\":[[\"511\"],{\"frame\":{\"duration\":0,\"redraw\":true},\"mode\":\"immediate\",\"fromcurrent\":true,\"transition\":{\"duration\":0,\"easing\":\"linear\"}}],\"label\":\"511\",\"method\":\"animate\"},{\"args\":[[\"512\"],{\"frame\":{\"duration\":0,\"redraw\":true},\"mode\":\"immediate\",\"fromcurrent\":true,\"transition\":{\"duration\":0,\"easing\":\"linear\"}}],\"label\":\"512\",\"method\":\"animate\"},{\"args\":[[\"515\"],{\"frame\":{\"duration\":0,\"redraw\":true},\"mode\":\"immediate\",\"fromcurrent\":true,\"transition\":{\"duration\":0,\"easing\":\"linear\"}}],\"label\":\"515\",\"method\":\"animate\"},{\"args\":[[\"516\"],{\"frame\":{\"duration\":0,\"redraw\":true},\"mode\":\"immediate\",\"fromcurrent\":true,\"transition\":{\"duration\":0,\"easing\":\"linear\"}}],\"label\":\"516\",\"method\":\"animate\"},{\"args\":[[\"517\"],{\"frame\":{\"duration\":0,\"redraw\":true},\"mode\":\"immediate\",\"fromcurrent\":true,\"transition\":{\"duration\":0,\"easing\":\"linear\"}}],\"label\":\"517\",\"method\":\"animate\"},{\"args\":[[\"518\"],{\"frame\":{\"duration\":0,\"redraw\":true},\"mode\":\"immediate\",\"fromcurrent\":true,\"transition\":{\"duration\":0,\"easing\":\"linear\"}}],\"label\":\"518\",\"method\":\"animate\"},{\"args\":[[\"519\"],{\"frame\":{\"duration\":0,\"redraw\":true},\"mode\":\"immediate\",\"fromcurrent\":true,\"transition\":{\"duration\":0,\"easing\":\"linear\"}}],\"label\":\"519\",\"method\":\"animate\"},{\"args\":[[\"8\"],{\"frame\":{\"duration\":0,\"redraw\":true},\"mode\":\"immediate\",\"fromcurrent\":true,\"transition\":{\"duration\":0,\"easing\":\"linear\"}}],\"label\":\"8\",\"method\":\"animate\"},{\"args\":[[\"9200\"],{\"frame\":{\"duration\":0,\"redraw\":true},\"mode\":\"immediate\",\"fromcurrent\":true,\"transition\":{\"duration\":0,\"easing\":\"linear\"}}],\"label\":\"9200\",\"method\":\"animate\"}],\"x\":0.1,\"xanchor\":\"left\",\"y\":0,\"yanchor\":\"top\"}],\"margin\":{\"l\":50,\"r\":50,\"t\":50,\"b\":50},\"showlegend\":false},                        {\"responsive\": true}                    ).then(function(){\n",
              "                            Plotly.addFrames('541ce4c5-4ccc-42e2-94b2-9385807d252b', [{\"data\":[{\"alignmentgroup\":\"True\",\"hovertemplate\":\"노선=111-2\\u003cbr\\u003e정류장=%{x}\\u003cbr\\u003e이용량=%{y}\\u003cextra\\u003e\\u003c\\u002fextra\\u003e\",\"legendgroup\":\"111-2\",\"marker\":{\"color\":\"rgb(229, 134, 6)\",\"pattern\":{\"shape\":\"\"}},\"name\":\"111-2\",\"offsetgroup\":\"111-2\",\"orientation\":\"v\",\"showlegend\":true,\"textposition\":\"auto\",\"x\":[\"롯데백화점(인천터미널)\",\"현대3차아파트\",\"인하대역(7번출구)\",\"인하대역(1번출구)\",\"원흥아파트\",\"문학초등학교\",\"백운역\",\"인명여자고등학교\",\"길병원\",\"법원.검찰청\"],\"xaxis\":\"x\",\"y\":[336,141,120,101,97,62,49,49,48,39],\"yaxis\":\"y\",\"type\":\"bar\"}],\"name\":\"111-2\"},{\"data\":[{\"alignmentgroup\":\"True\",\"hovertemplate\":\"노선=13\\u003cbr\\u003e정류장=%{x}\\u003cbr\\u003e이용량=%{y}\\u003cextra\\u003e\\u003c\\u002fextra\\u003e\",\"legendgroup\":\"13\",\"marker\":{\"color\":\"rgb(93, 105, 177)\",\"pattern\":{\"shape\":\"\"}},\"name\":\"13\",\"offsetgroup\":\"13\",\"orientation\":\"v\",\"showlegend\":true,\"textposition\":\"auto\",\"x\":[\"호반써밋송도\",\"주안역\",\"주안7동행정복지센터\",\"미송초등학교\",\"용현3동행정복지센터.보훈병원\",\"도화오거리\",\"숭의로터리\",\"인하대병원\",\"용현시장\",\"인천소방본부\"],\"xaxis\":\"x\",\"y\":[151,149,112,62,50,49,45,42,34,33],\"yaxis\":\"y\",\"type\":\"bar\"}],\"name\":\"13\"},{\"data\":[{\"alignmentgroup\":\"True\",\"hovertemplate\":\"노선=1601\\u003cbr\\u003e정류장=%{x}\\u003cbr\\u003e이용량=%{y}\\u003cextra\\u003e\\u003c\\u002fextra\\u003e\",\"legendgroup\":\"1601\",\"marker\":{\"color\":\"rgb(82, 188, 163)\",\"pattern\":{\"shape\":\"\"}},\"name\":\"1601\",\"offsetgroup\":\"1601\",\"orientation\":\"v\",\"showlegend\":true,\"textposition\":\"auto\",\"x\":[\"홍대입구역\",\"인하대후문\",\"계룡리슈빌\",\"부천시청역3번출구.경기예고.현대백화점\",\"인천미래생활고등학교\",\"신중동역6번출구.중흥중학교\",\"태화두진아파트\",\"합정역\",\"약대사거리\",\"서울역\"],\"xaxis\":\"x\",\"y\":[233,115,111,107,83,71,61,59,56,42],\"yaxis\":\"y\",\"type\":\"bar\"}],\"name\":\"1601\"},{\"data\":[{\"alignmentgroup\":\"True\",\"hovertemplate\":\"노선=27\\u003cbr\\u003e정류장=%{x}\\u003cbr\\u003e이용량=%{y}\\u003cextra\\u003e\\u003c\\u002fextra\\u003e\",\"legendgroup\":\"27\",\"marker\":{\"color\":\"rgb(153, 201, 69)\",\"pattern\":{\"shape\":\"\"}},\"name\":\"27\",\"offsetgroup\":\"27\",\"orientation\":\"v\",\"showlegend\":true,\"textposition\":\"auto\",\"x\":[\"롯데백화점(인천터미널)\",\"정석항공과학고\",\"인하대역(7번출구)\",\"인하대역(1번출구)\",\"청능로사거리\",\"도림주공1단지\",\"주안7동행정복지센터\",\"남동구청\",\"남동초등학교\",\"삼익.광명아파트\"],\"xaxis\":\"x\",\"y\":[258,149,136,116,97,65,56,53,34,29],\"yaxis\":\"y\",\"type\":\"bar\"}],\"name\":\"27\"},{\"data\":[{\"alignmentgroup\":\"True\",\"hovertemplate\":\"노선=46\\u003cbr\\u003e정류장=%{x}\\u003cbr\\u003e이용량=%{y}\\u003cextra\\u003e\\u003c\\u002fextra\\u003e\",\"legendgroup\":\"46\",\"marker\":{\"color\":\"rgb(204, 97, 176)\",\"pattern\":{\"shape\":\"\"}},\"name\":\"46\",\"offsetgroup\":\"46\",\"orientation\":\"v\",\"showlegend\":true,\"textposition\":\"auto\",\"x\":[\"롯데백화점(인천터미널)\",\"인하대역(7번출구)\",\"벽산이삭아파트\",\"풍림아이원아파트\",\"부평역\",\"대동아파트\",\"인하대역(1번출구)\",\"인명여자고등학교\",\"중구문화회관\",\"인수초등학교\"],\"xaxis\":\"x\",\"y\":[255,141,128,103,67,60,57,36,36,33],\"yaxis\":\"y\",\"type\":\"bar\"}],\"name\":\"46\"},{\"data\":[{\"alignmentgroup\":\"True\",\"hovertemplate\":\"노선=5\\u003cbr\\u003e정류장=%{x}\\u003cbr\\u003e이용량=%{y}\\u003cextra\\u003e\\u003c\\u002fextra\\u003e\",\"legendgroup\":\"5\",\"marker\":{\"color\":\"rgb(36, 121, 108)\",\"pattern\":{\"shape\":\"\"}},\"name\":\"5\",\"offsetgroup\":\"5\",\"orientation\":\"v\",\"showlegend\":true,\"textposition\":\"auto\",\"x\":[\"롯데백화점(인천터미널)\",\"인명여자고등학교\",\"인하대역(1번출구)\",\"인하대역(7번출구)\",\"풍림아이원아파트\",\"서창센트럴푸르지오\",\"서창퍼스트뷰후문\",\"문학경로당\",\"인천향교유림회관\",\"삼미시장\"],\"xaxis\":\"x\",\"y\":[490,86,77,70,61,53,40,37,36,29],\"yaxis\":\"y\",\"type\":\"bar\"}],\"name\":\"5\"},{\"data\":[{\"alignmentgroup\":\"True\",\"hovertemplate\":\"노선=5-1\\u003cbr\\u003e정류장=%{x}\\u003cbr\\u003e이용량=%{y}\\u003cextra\\u003e\\u003c\\u002fextra\\u003e\",\"legendgroup\":\"5-1\",\"marker\":{\"color\":\"rgb(218, 165, 27)\",\"pattern\":{\"shape\":\"\"}},\"name\":\"5-1\",\"offsetgroup\":\"5-1\",\"orientation\":\"v\",\"showlegend\":true,\"textposition\":\"auto\",\"x\":[\"주안역환승정류장\",\"인하대역(1번출구)\",\"풍림아이원아파트\",\"동아풍림아파트\",\"주안7동행정복지센터\",\"용현초등학교입구\",\"대림아파트\",\"주안3동행정복지센터\",\"인하대역(7번출구)\",\"주안파크자이더플래티넘아파트\"],\"xaxis\":\"x\",\"y\":[750,126,83,70,57,40,36,30,29,28],\"yaxis\":\"y\",\"type\":\"bar\"}],\"name\":\"5-1\"},{\"data\":[{\"alignmentgroup\":\"True\",\"hovertemplate\":\"노선=511\\u003cbr\\u003e정류장=%{x}\\u003cbr\\u003e이용량=%{y}\\u003cextra\\u003e\\u003c\\u002fextra\\u003e\",\"legendgroup\":\"511\",\"marker\":{\"color\":\"rgb(47, 138, 196)\",\"pattern\":{\"shape\":\"\"}},\"name\":\"511\",\"offsetgroup\":\"511\",\"orientation\":\"v\",\"showlegend\":true,\"textposition\":\"auto\",\"x\":[\"주안역환승정류장\",\"인천기계공고\",\"용일사거리\",\"인하대후문\",\"학산소극장\",\"SK스카이뷰104동\",\"도화IC\",\"독배로317번길(삼거리)\",\"인천용학초등학교\",\"용남파출소\"],\"xaxis\":\"x\",\"y\":[1157,60,56,52,26,22,16,11,11,8],\"yaxis\":\"y\",\"type\":\"bar\"}],\"name\":\"511\"},{\"data\":[{\"alignmentgroup\":\"True\",\"hovertemplate\":\"노선=512\\u003cbr\\u003e정류장=%{x}\\u003cbr\\u003e이용량=%{y}\\u003cextra\\u003e\\u003c\\u002fextra\\u003e\",\"legendgroup\":\"512\",\"marker\":{\"color\":\"rgb(118, 78, 159)\",\"pattern\":{\"shape\":\"\"}},\"name\":\"512\",\"offsetgroup\":\"512\",\"orientation\":\"v\",\"showlegend\":true,\"textposition\":\"auto\",\"x\":[\"남중학교\",\"용현시장\",\"수봉마을쉼터\",\"제물포역\",\"용현고개\",\"용정초등학교\",\"인하대후문\",\"용현고가교\",\"수봉공원\",\"미추홀구청\"],\"xaxis\":\"x\",\"y\":[596,222,208,95,64,56,44,37,34,18],\"yaxis\":\"y\",\"type\":\"bar\"}],\"name\":\"512\"},{\"data\":[{\"alignmentgroup\":\"True\",\"hovertemplate\":\"노선=515\\u003cbr\\u003e정류장=%{x}\\u003cbr\\u003e이용량=%{y}\\u003cextra\\u003e\\u003c\\u002fextra\\u003e\",\"legendgroup\":\"515\",\"marker\":{\"color\":\"rgb(237, 100, 90)\",\"pattern\":{\"shape\":\"\"}},\"name\":\"515\",\"offsetgroup\":\"515\",\"orientation\":\"v\",\"showlegend\":true,\"textposition\":\"auto\",\"x\":[\"주안역\",\"신기.남부종합시장(진흥사거리)\",\"문학초등학교\",\"(구)시민회관사거리\",\"신비마을아파트\",\"관교여자중학교\",\"관교중학교(약수터)\",\"삼영아파트\",\"학익시장앞\",\"학익사거리(동아풍림아파트)\"],\"xaxis\":\"x\",\"y\":[451,237,213,85,80,52,45,36,35,32],\"yaxis\":\"y\",\"type\":\"bar\"}],\"name\":\"515\"},{\"data\":[{\"alignmentgroup\":\"True\",\"hovertemplate\":\"노선=516\\u003cbr\\u003e정류장=%{x}\\u003cbr\\u003e이용량=%{y}\\u003cextra\\u003e\\u003c\\u002fextra\\u003e\",\"legendgroup\":\"516\",\"marker\":{\"color\":\"rgb(165, 170, 153)\",\"pattern\":{\"shape\":\"\"}},\"name\":\"516\",\"offsetgroup\":\"516\",\"orientation\":\"v\",\"showlegend\":true,\"textposition\":\"auto\",\"x\":[\"주안역환승정류장\",\"인하대역(7번출구)\",\"풍림아이원아파트\",\"신기.남부종합시장(진흥사거리)\",\"연학초등학교\",\"신동아아파트\",\"(구)시민회관사거리\",\"두산위브아파트\",\"인하대역(1번출구)\",\"현광아파트후문\"],\"xaxis\":\"x\",\"y\":[545,187,102,90,87,70,47,36,29,26],\"yaxis\":\"y\",\"type\":\"bar\"}],\"name\":\"516\"},{\"data\":[{\"alignmentgroup\":\"True\",\"hovertemplate\":\"노선=517\\u003cbr\\u003e정류장=%{x}\\u003cbr\\u003e이용량=%{y}\\u003cextra\\u003e\\u003c\\u002fextra\\u003e\",\"legendgroup\":\"517\",\"marker\":{\"color\":\"rgb(229, 134, 6)\",\"pattern\":{\"shape\":\"\"}},\"name\":\"517\",\"offsetgroup\":\"517\",\"orientation\":\"v\",\"showlegend\":true,\"textposition\":\"auto\",\"x\":[\"동인천\",\"동인천역\",\"토지금고시장\",\"제물포역\",\"신포시장\",\"용현시장\",\"기점(미정차)\",\"남중학교\",\"한양아파트\",\"인하대역4번출구\"],\"xaxis\":\"x\",\"y\":[303,244,240,81,55,53,48,39,37,36],\"yaxis\":\"y\",\"type\":\"bar\"}],\"name\":\"517\"},{\"data\":[{\"alignmentgroup\":\"True\",\"hovertemplate\":\"노선=518\\u003cbr\\u003e정류장=%{x}\\u003cbr\\u003e이용량=%{y}\\u003cextra\\u003e\\u003c\\u002fextra\\u003e\",\"legendgroup\":\"518\",\"marker\":{\"color\":\"rgb(93, 105, 177)\",\"pattern\":{\"shape\":\"\"}},\"name\":\"518\",\"offsetgroup\":\"518\",\"orientation\":\"v\",\"showlegend\":true,\"textposition\":\"auto\",\"x\":[\"(구)시민회관사거리\",\"신기.남부종합시장(진흥사거리)\",\"인하대역(7번출구)\",\"신동아아파트3차\",\"인천향교유림회관\",\"주안역\",\"신동아아파트\",\"대동아파트\",\"학산사거리\",\"학익고등학교\"],\"xaxis\":\"x\",\"y\":[286,254,159,149,105,78,54,47,46,33],\"yaxis\":\"y\",\"type\":\"bar\"}],\"name\":\"518\"},{\"data\":[{\"alignmentgroup\":\"True\",\"hovertemplate\":\"노선=519\\u003cbr\\u003e정류장=%{x}\\u003cbr\\u003e이용량=%{y}\\u003cextra\\u003e\\u003c\\u002fextra\\u003e\",\"legendgroup\":\"519\",\"marker\":{\"color\":\"rgb(82, 188, 163)\",\"pattern\":{\"shape\":\"\"}},\"name\":\"519\",\"offsetgroup\":\"519\",\"orientation\":\"v\",\"showlegend\":true,\"textposition\":\"auto\",\"x\":[\"동인천\",\"동인천역\",\"토지금고시장\",\"제물포역\",\"신포시장\",\"용현시장\",\"인하대역4번출구\",\"기점(미정차)\",\"남중학교\",\"대림아파트\"],\"xaxis\":\"x\",\"y\":[313,256,160,114,67,61,58,53,36,35],\"yaxis\":\"y\",\"type\":\"bar\"}],\"name\":\"519\"},{\"data\":[{\"alignmentgroup\":\"True\",\"hovertemplate\":\"노선=8\\u003cbr\\u003e정류장=%{x}\\u003cbr\\u003e이용량=%{y}\\u003cextra\\u003e\\u003c\\u002fextra\\u003e\",\"legendgroup\":\"8\",\"marker\":{\"color\":\"rgb(153, 201, 69)\",\"pattern\":{\"shape\":\"\"}},\"name\":\"8\",\"offsetgroup\":\"8\",\"orientation\":\"v\",\"showlegend\":true,\"textposition\":\"auto\",\"x\":[\"송내역남부\",\"동막역(1번출구)\",\"인천대입구역\",\"나사렛국제병원앞\",\"아주아파트.미추홀학교\",\"인하대역(7번출구)\",\"현대3차아파트\",\"원흥아파트\",\"송도풍림아이원2단지\",\"장미아파트\"],\"xaxis\":\"x\",\"y\":[506,121,112,109,55,46,27,26,25,25],\"yaxis\":\"y\",\"type\":\"bar\"}],\"name\":\"8\"},{\"data\":[{\"alignmentgroup\":\"True\",\"hovertemplate\":\"노선=9200\\u003cbr\\u003e정류장=%{x}\\u003cbr\\u003e이용량=%{y}\\u003cextra\\u003e\\u003c\\u002fextra\\u003e\",\"legendgroup\":\"9200\",\"marker\":{\"color\":\"rgb(204, 97, 176)\",\"pattern\":{\"shape\":\"\"}},\"name\":\"9200\",\"offsetgroup\":\"9200\",\"orientation\":\"v\",\"showlegend\":true,\"textposition\":\"auto\",\"x\":[\"강남역서초현대타워앞\",\"인하대역(7번출구)\",\"원흥아파트\",\"송도유원지(도로교통공단)\",\"송도파크레인동일하이빌\",\"교대역\",\"시민의숲.양재꽃시장\",\"장미아파트\",\"학익시장(법원검찰청)\",\"선바위역\"],\"xaxis\":\"x\",\"y\":[311,294,205,155,80,45,43,40,33,32],\"yaxis\":\"y\",\"type\":\"bar\"}],\"name\":\"9200\"}]);\n",
              "                        }).then(function(){\n",
              "                            \n",
              "var gd = document.getElementById('541ce4c5-4ccc-42e2-94b2-9385807d252b');\n",
              "var x = new MutationObserver(function (mutations, observer) {{\n",
              "        var display = window.getComputedStyle(gd).display;\n",
              "        if (!display || display === 'none') {{\n",
              "            console.log([gd, 'removed!']);\n",
              "            Plotly.purge(gd);\n",
              "            observer.disconnect();\n",
              "        }}\n",
              "}});\n",
              "\n",
              "// Listen for the removal of the full notebook cells\n",
              "var notebookContainer = gd.closest('#notebook-container');\n",
              "if (notebookContainer) {{\n",
              "    x.observe(notebookContainer, {childList: true});\n",
              "}}\n",
              "\n",
              "// Listen for the clearing of the current output cell\n",
              "var outputEl = gd.closest('.output');\n",
              "if (outputEl) {{\n",
              "    x.observe(outputEl, {childList: true});\n",
              "}}\n",
              "\n",
              "                        })                };                            </script>        </div>\n",
              "</body>\n",
              "</html>"
            ]
          },
          "metadata": {}
        },
        {
          "output_type": "display_data",
          "data": {
            "text/plain": [
              "<IPython.core.display.Javascript object>"
            ],
            "application/javascript": [
              "\n",
              "    async function download(id, filename, size) {\n",
              "      if (!google.colab.kernel.accessAllowed) {\n",
              "        return;\n",
              "      }\n",
              "      const div = document.createElement('div');\n",
              "      const label = document.createElement('label');\n",
              "      label.textContent = `Downloading \"${filename}\": `;\n",
              "      div.appendChild(label);\n",
              "      const progress = document.createElement('progress');\n",
              "      progress.max = size;\n",
              "      div.appendChild(progress);\n",
              "      document.body.appendChild(div);\n",
              "\n",
              "      const buffers = [];\n",
              "      let downloaded = 0;\n",
              "\n",
              "      const channel = await google.colab.kernel.comms.open(id);\n",
              "      // Send a message to notify the kernel that we're ready.\n",
              "      channel.send({})\n",
              "\n",
              "      for await (const message of channel.messages) {\n",
              "        // Send a message to notify the kernel that we're ready.\n",
              "        channel.send({})\n",
              "        if (message.buffers) {\n",
              "          for (const buffer of message.buffers) {\n",
              "            buffers.push(buffer);\n",
              "            downloaded += buffer.byteLength;\n",
              "            progress.value = downloaded;\n",
              "          }\n",
              "        }\n",
              "      }\n",
              "      const blob = new Blob(buffers, {type: 'application/binary'});\n",
              "      const a = document.createElement('a');\n",
              "      a.href = window.URL.createObjectURL(blob);\n",
              "      a.download = filename;\n",
              "      div.appendChild(a);\n",
              "      a.click();\n",
              "      div.remove();\n",
              "    }\n",
              "  "
            ]
          },
          "metadata": {}
        },
        {
          "output_type": "display_data",
          "data": {
            "text/plain": [
              "<IPython.core.display.Javascript object>"
            ],
            "application/javascript": [
              "download(\"download_863abdb7-4937-4474-95a3-8db35a536cf1\", \"\\ub178\\uc120\\ubcc4 \\uc774\\uc6a9\\ub7c9 \\ub9ce\\uc740 \\uc0c1\\uc70410\\uac1c \\uc815\\ub958\\uc7a5 \\uc774\\uc6a9\\ub7c9.html\", 4581802)"
            ]
          },
          "metadata": {}
        },
        {
          "output_type": "display_data",
          "data": {
            "text/plain": [
              "<IPython.core.display.Javascript object>"
            ],
            "application/javascript": [
              "\n",
              "    async function download(id, filename, size) {\n",
              "      if (!google.colab.kernel.accessAllowed) {\n",
              "        return;\n",
              "      }\n",
              "      const div = document.createElement('div');\n",
              "      const label = document.createElement('label');\n",
              "      label.textContent = `Downloading \"${filename}\": `;\n",
              "      div.appendChild(label);\n",
              "      const progress = document.createElement('progress');\n",
              "      progress.max = size;\n",
              "      div.appendChild(progress);\n",
              "      document.body.appendChild(div);\n",
              "\n",
              "      const buffers = [];\n",
              "      let downloaded = 0;\n",
              "\n",
              "      const channel = await google.colab.kernel.comms.open(id);\n",
              "      // Send a message to notify the kernel that we're ready.\n",
              "      channel.send({})\n",
              "\n",
              "      for await (const message of channel.messages) {\n",
              "        // Send a message to notify the kernel that we're ready.\n",
              "        channel.send({})\n",
              "        if (message.buffers) {\n",
              "          for (const buffer of message.buffers) {\n",
              "            buffers.push(buffer);\n",
              "            downloaded += buffer.byteLength;\n",
              "            progress.value = downloaded;\n",
              "          }\n",
              "        }\n",
              "      }\n",
              "      const blob = new Blob(buffers, {type: 'application/binary'});\n",
              "      const a = document.createElement('a');\n",
              "      a.href = window.URL.createObjectURL(blob);\n",
              "      a.download = filename;\n",
              "      div.appendChild(a);\n",
              "      a.click();\n",
              "      div.remove();\n",
              "    }\n",
              "  "
            ]
          },
          "metadata": {}
        },
        {
          "output_type": "display_data",
          "data": {
            "text/plain": [
              "<IPython.core.display.Javascript object>"
            ],
            "application/javascript": [
              "download(\"download_b9d60b39-22d1-4573-8f9a-62fb1c6bbf19\", \"\\ub178\\uc120\\ubcc4 \\uc774\\uc6a9\\ub7c9 \\ub9ce\\uc740 \\uc0c1\\uc70410\\uac1c \\uc815\\ub958\\uc7a5 \\uc774\\uc6a9\\ub7c9.csv\", 4571)"
            ]
          },
          "metadata": {}
        }
      ]
    }
  ]
}